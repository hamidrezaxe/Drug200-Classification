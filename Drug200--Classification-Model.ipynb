{
 "cells": [
  {
   "cell_type": "markdown",
   "id": "cf7defc5-47ad-4479-a983-50288b2be283",
   "metadata": {},
   "source": [
    "<h2>Drug Classification</h2>"
   ]
  },
  {
   "cell_type": "markdown",
   "id": "a460cdd5-7561-4a56-b183-d5de04577ee0",
   "metadata": {},
   "source": [
    "<div class=\"alert alert-block\" style=\"background-color: #757575 \">\n",
    "    <ol>\n",
    "        <li>Understanding Data</li>\n",
    "        <li>Reading Data</li>\n",
    "        <li>Exploring Data</li>\n",
    "        <li>Visualizing Data</li>\n",
    "        <li>Preprocessing</li>\n",
    "        <li>Split Data into features (X) and target (y)</li>\n",
    "        <li>Split data into Train/Test sets</li>\n",
    "        <li>Training Model</li>\n",
    "        <ol>\n",
    "            <li>KNN</li>\n",
    "            <li>Decision Tree</li>\n",
    "            <li>Random Forest</li>\n",
    "        </ol>\n",
    "        <li>Conclusion</li>\n",
    "    </ol>\n",
    "</div>"
   ]
  },
  {
   "cell_type": "markdown",
   "id": "62b27e43-be78-4d2b-945c-eb3941e84119",
   "metadata": {},
   "source": [
    "<h2>Understanding Data</h2>"
   ]
  },
  {
   "cell_type": "markdown",
   "id": "07ef26c6-0a1e-45da-b626-3d988998049b",
   "metadata": {},
   "source": [
    "In this dataset. we have information about different patients and best drug for them. the features included in this dataset are:\n",
    "- Age: Age of the patient\n",
    "- Sex (Gender)\n",
    "- BP Blood Pressure of the patient\n",
    "- Cholesterol: Cholesterol of the patient\n",
    "- Na_to_K: Sodium to Potassium ratio in patient's blood\n",
    "- Drug: Drugs for patients that included DrugA, DrugB, DrugC, DrugX and DrugY"
   ]
  },
  {
   "cell_type": "markdown",
   "id": "39310a4b-8322-46fb-98d8-d1d63e018aac",
   "metadata": {},
   "source": [
    "<h2>Loading Packages</h2>"
   ]
  },
  {
   "cell_type": "code",
   "execution_count": 1,
   "id": "496bab14-8efa-488a-ae29-0e73fc095b24",
   "metadata": {},
   "outputs": [],
   "source": [
    "import numpy as np\n",
    "import pandas as pd\n",
    "import matplotlib.pyplot as plt\n",
    "from sklearn.preprocessing import LabelEncoder\n",
    "from sklearn.model_selection import train_test_split\n",
    "from sklearn.neighbors import KNeighborsClassifier\n",
    "from sklearn.tree import DecisionTreeClassifier\n",
    "from sklearn.ensemble import RandomForestClassifier\n",
    "from sklearn.metrics import accuracy_score"
   ]
  },
  {
   "cell_type": "markdown",
   "id": "569aa629-4cd0-4bef-9577-6b4f69541365",
   "metadata": {},
   "source": [
    "<h2>Reading Data</h2>"
   ]
  },
  {
   "cell_type": "code",
   "execution_count": 2,
   "id": "61b9265c-d338-4ded-b488-0cf2205b6372",
   "metadata": {},
   "outputs": [],
   "source": [
    "data = pd.read_csv(\"data/drug200.csv\")"
   ]
  },
  {
   "cell_type": "markdown",
   "id": "ad5bf654-b2dd-4a6f-95ad-539fbbebfeb7",
   "metadata": {},
   "source": [
    "<p><strong>Note: </strong> You can download the dataset from <a href=\"#\">Github</a>or directly from the <a href=\"#\">Kaggle Website</a></p>"
   ]
  },
  {
   "cell_type": "markdown",
   "id": "bbe31f9a-839e-4bd4-beb0-d8c3905fab29",
   "metadata": {},
   "source": [
    "<h2>Exploring Data</h2>"
   ]
  },
  {
   "cell_type": "code",
   "execution_count": 3,
   "id": "6103102b-6b76-46d2-b0e9-9ae9632c4056",
   "metadata": {},
   "outputs": [
    {
     "name": "stdout",
     "output_type": "stream",
     "text": [
      "<class 'pandas.core.frame.DataFrame'>\n",
      "RangeIndex: 200 entries, 0 to 199\n",
      "Data columns (total 6 columns):\n",
      " #   Column       Non-Null Count  Dtype  \n",
      "---  ------       --------------  -----  \n",
      " 0   Age          200 non-null    int64  \n",
      " 1   Sex          200 non-null    object \n",
      " 2   BP           200 non-null    object \n",
      " 3   Cholesterol  200 non-null    object \n",
      " 4   Na_to_K      200 non-null    float64\n",
      " 5   Drug         200 non-null    object \n",
      "dtypes: float64(1), int64(1), object(4)\n",
      "memory usage: 9.5+ KB\n"
     ]
    }
   ],
   "source": [
    "data.info()"
   ]
  },
  {
   "cell_type": "code",
   "execution_count": 4,
   "id": "7fc18130-462a-4818-9578-10b6fe8d55fa",
   "metadata": {},
   "outputs": [
    {
     "data": {
      "text/html": [
       "<div>\n",
       "<style scoped>\n",
       "    .dataframe tbody tr th:only-of-type {\n",
       "        vertical-align: middle;\n",
       "    }\n",
       "\n",
       "    .dataframe tbody tr th {\n",
       "        vertical-align: top;\n",
       "    }\n",
       "\n",
       "    .dataframe thead th {\n",
       "        text-align: right;\n",
       "    }\n",
       "</style>\n",
       "<table border=\"1\" class=\"dataframe\">\n",
       "  <thead>\n",
       "    <tr style=\"text-align: right;\">\n",
       "      <th></th>\n",
       "      <th>Age</th>\n",
       "      <th>Sex</th>\n",
       "      <th>BP</th>\n",
       "      <th>Cholesterol</th>\n",
       "      <th>Na_to_K</th>\n",
       "      <th>Drug</th>\n",
       "    </tr>\n",
       "  </thead>\n",
       "  <tbody>\n",
       "    <tr>\n",
       "      <th>0</th>\n",
       "      <td>23</td>\n",
       "      <td>F</td>\n",
       "      <td>HIGH</td>\n",
       "      <td>HIGH</td>\n",
       "      <td>25.355</td>\n",
       "      <td>drugY</td>\n",
       "    </tr>\n",
       "    <tr>\n",
       "      <th>1</th>\n",
       "      <td>47</td>\n",
       "      <td>M</td>\n",
       "      <td>LOW</td>\n",
       "      <td>HIGH</td>\n",
       "      <td>13.093</td>\n",
       "      <td>drugC</td>\n",
       "    </tr>\n",
       "    <tr>\n",
       "      <th>2</th>\n",
       "      <td>47</td>\n",
       "      <td>M</td>\n",
       "      <td>LOW</td>\n",
       "      <td>HIGH</td>\n",
       "      <td>10.114</td>\n",
       "      <td>drugC</td>\n",
       "    </tr>\n",
       "    <tr>\n",
       "      <th>3</th>\n",
       "      <td>28</td>\n",
       "      <td>F</td>\n",
       "      <td>NORMAL</td>\n",
       "      <td>HIGH</td>\n",
       "      <td>7.798</td>\n",
       "      <td>drugX</td>\n",
       "    </tr>\n",
       "    <tr>\n",
       "      <th>4</th>\n",
       "      <td>61</td>\n",
       "      <td>F</td>\n",
       "      <td>LOW</td>\n",
       "      <td>HIGH</td>\n",
       "      <td>18.043</td>\n",
       "      <td>drugY</td>\n",
       "    </tr>\n",
       "  </tbody>\n",
       "</table>\n",
       "</div>"
      ],
      "text/plain": [
       "   Age Sex      BP Cholesterol  Na_to_K   Drug\n",
       "0   23   F    HIGH        HIGH   25.355  drugY\n",
       "1   47   M     LOW        HIGH   13.093  drugC\n",
       "2   47   M     LOW        HIGH   10.114  drugC\n",
       "3   28   F  NORMAL        HIGH    7.798  drugX\n",
       "4   61   F     LOW        HIGH   18.043  drugY"
      ]
     },
     "execution_count": 4,
     "metadata": {},
     "output_type": "execute_result"
    }
   ],
   "source": [
    "data.head()"
   ]
  },
  {
   "cell_type": "markdown",
   "id": "d6b67e15-fd33-4451-bf7a-65be8cc022fb",
   "metadata": {},
   "source": [
    "<h2>Visualizing Data</h2>"
   ]
  },
  {
   "cell_type": "code",
   "execution_count": 5,
   "id": "eba60db5-685b-44d3-9dc6-d3890cbe7d5e",
   "metadata": {},
   "outputs": [
    {
     "data": {
      "image/png": "[encoded data removed]",
      "text/plain": [
       "<Figure size 640x480 with 1 Axes>"
      ]
     },
     "metadata": {},
     "output_type": "display_data"
    }
   ],
   "source": [
    "plt.hist(data[\"Drug\"])  # Drugs\n",
    "plt.title(\"Drugs\")\n",
    "plt.show()"
   ]
  },
  {
   "cell_type": "code",
   "execution_count": 6,
   "id": "eb3121ad-525d-4c6d-af9f-bb28f0eb3bad",
   "metadata": {},
   "outputs": [
    {
     "data": {
      "image/png": "[encoded data removed]",
      "text/plain": [
       "<Figure size 640x480 with 1 Axes>"
      ]
     },
     "metadata": {},
     "output_type": "display_data"
    }
   ],
   "source": [
    "plt.hist(data[\"Sex\"], bins=5)  # Genders\n",
    "plt.title(\"Genders\")\n",
    "plt.show()"
   ]
  },
  {
   "cell_type": "code",
   "execution_count": 7,
   "id": "872a7b6d-986c-458f-a905-7f0c10bb3423",
   "metadata": {},
   "outputs": [
    {
     "data": {
      "image/png": "[encoded data removed]",
      "text/plain": [
       "<Figure size 640x480 with 1 Axes>"
      ]
     },
     "metadata": {},
     "output_type": "display_data"
    }
   ],
   "source": [
    "plt.hist(data[\"BP\"])  # Blood Pressure\n",
    "plt.title(\"Blood Pressure\")\n",
    "plt.show()"
   ]
  },
  {
   "cell_type": "code",
   "execution_count": 8,
   "id": "476ac658-71e6-4a62-82ed-b0507c6777b3",
   "metadata": {},
   "outputs": [
    {
     "data": {
      "image/png": "[encoded data removed]",
      "text/plain": [
       "<Figure size 640x480 with 1 Axes>"
      ]
     },
     "metadata": {},
     "output_type": "display_data"
    }
   ],
   "source": [
    "plt.scatter(data[\"Age\"], data[\"Na_to_K\"])\n",
    "plt.xlabel(\"Age\")\n",
    "plt.ylabel(\"Na/K\")\n",
    "plt.grid()\n",
    "plt.show()"
   ]
  },
  {
   "cell_type": "markdown",
   "id": "2433c45d-1c37-4fa1-82aa-880e96191895",
   "metadata": {},
   "source": [
    "<h2>Preprocessing</h2>"
   ]
  },
  {
   "cell_type": "code",
   "execution_count": 9,
   "id": "0a42be61-e04c-4333-835a-391876f9b5ab",
   "metadata": {},
   "outputs": [],
   "source": [
    "data[\"Sex\"] = LabelEncoder().fit([\"F\",\"M\"]).transform(data[\"Sex\"])\n",
    "data[\"BP\"] = LabelEncoder().fit([\"LOW\", \"NORMAL\", \"HIGH\"]).transform(data[\"BP\"])\n",
    "data[\"Cholesterol\"] = LabelEncoder().fit([\"NORMAL\", \"HIGH\"]).transform(data[\"Cholesterol\"])\n",
    "data[\"Drug\"] = LabelEncoder().fit([\"drugA\", \"drugB\", \"drugC\", \"drugX\", \"drugY\"]).transform(data[\"Drug\"])"
   ]
  },
  {
   "cell_type": "code",
   "execution_count": 10,
   "id": "ceefe041-669b-4fd6-b3a2-646c1ba508bb",
   "metadata": {},
   "outputs": [
    {
     "data": {
      "text/html": [
       "<div>\n",
       "<style scoped>\n",
       "    .dataframe tbody tr th:only-of-type {\n",
       "        vertical-align: middle;\n",
       "    }\n",
       "\n",
       "    .dataframe tbody tr th {\n",
       "        vertical-align: top;\n",
       "    }\n",
       "\n",
       "    .dataframe thead th {\n",
       "        text-align: right;\n",
       "    }\n",
       "</style>\n",
       "<table border=\"1\" class=\"dataframe\">\n",
       "  <thead>\n",
       "    <tr style=\"text-align: right;\">\n",
       "      <th></th>\n",
       "      <th>Age</th>\n",
       "      <th>Sex</th>\n",
       "      <th>BP</th>\n",
       "      <th>Cholesterol</th>\n",
       "      <th>Na_to_K</th>\n",
       "      <th>Drug</th>\n",
       "    </tr>\n",
       "  </thead>\n",
       "  <tbody>\n",
       "    <tr>\n",
       "      <th>0</th>\n",
       "      <td>23</td>\n",
       "      <td>0</td>\n",
       "      <td>0</td>\n",
       "      <td>0</td>\n",
       "      <td>25.355</td>\n",
       "      <td>4</td>\n",
       "    </tr>\n",
       "    <tr>\n",
       "      <th>1</th>\n",
       "      <td>47</td>\n",
       "      <td>1</td>\n",
       "      <td>1</td>\n",
       "      <td>0</td>\n",
       "      <td>13.093</td>\n",
       "      <td>2</td>\n",
       "    </tr>\n",
       "    <tr>\n",
       "      <th>2</th>\n",
       "      <td>47</td>\n",
       "      <td>1</td>\n",
       "      <td>1</td>\n",
       "      <td>0</td>\n",
       "      <td>10.114</td>\n",
       "      <td>2</td>\n",
       "    </tr>\n",
       "    <tr>\n",
       "      <th>3</th>\n",
       "      <td>28</td>\n",
       "      <td>0</td>\n",
       "      <td>2</td>\n",
       "      <td>0</td>\n",
       "      <td>7.798</td>\n",
       "      <td>3</td>\n",
       "    </tr>\n",
       "    <tr>\n",
       "      <th>4</th>\n",
       "      <td>61</td>\n",
       "      <td>0</td>\n",
       "      <td>1</td>\n",
       "      <td>0</td>\n",
       "      <td>18.043</td>\n",
       "      <td>4</td>\n",
       "    </tr>\n",
       "  </tbody>\n",
       "</table>\n",
       "</div>"
      ],
      "text/plain": [
       "   Age  Sex  BP  Cholesterol  Na_to_K  Drug\n",
       "0   23    0   0            0   25.355     4\n",
       "1   47    1   1            0   13.093     2\n",
       "2   47    1   1            0   10.114     2\n",
       "3   28    0   2            0    7.798     3\n",
       "4   61    0   1            0   18.043     4"
      ]
     },
     "execution_count": 10,
     "metadata": {},
     "output_type": "execute_result"
    }
   ],
   "source": [
    "data.head()"
   ]
  },
  {
   "cell_type": "markdown",
   "id": "bb7f9a79-54e2-4f81-9a38-7d5531e42029",
   "metadata": {},
   "source": [
    "<h2>Split Data into features (X) and target (y)</h2>"
   ]
  },
  {
   "cell_type": "code",
   "execution_count": 11,
   "id": "5e985a88-8b72-43ee-81b8-c7dca6931277",
   "metadata": {},
   "outputs": [
    {
     "data": {
      "text/plain": [
       "array([[0, 0, 0],\n",
       "       [1, 1, 0],\n",
       "       [1, 1, 0],\n",
       "       [0, 2, 0],\n",
       "       [0, 1, 0]])"
      ]
     },
     "execution_count": 11,
     "metadata": {},
     "output_type": "execute_result"
    }
   ],
   "source": [
    "X = data[[\"Sex\", \"BP\", \"Cholesterol\"]].values\n",
    "\n",
    "X[:5]"
   ]
  },
  {
   "cell_type": "code",
   "execution_count": 12,
   "id": "fb234ba6-4195-4c5d-818e-827701b9ddb2",
   "metadata": {},
   "outputs": [
    {
     "data": {
      "text/plain": [
       "0    4\n",
       "1    2\n",
       "2    2\n",
       "3    3\n",
       "4    4\n",
       "Name: Drug, dtype: int32"
      ]
     },
     "execution_count": 12,
     "metadata": {},
     "output_type": "execute_result"
    }
   ],
   "source": [
    "y = data[\"Drug\"]\n",
    "\n",
    "y[:5]"
   ]
  },
  {
   "cell_type": "markdown",
   "id": "ab3fb4fa-f9ec-4500-8429-798d99a36767",
   "metadata": {},
   "source": [
    "<h2>Split Data into Train/Test sets</h2>"
   ]
  },
  {
   "cell_type": "markdown",
   "id": "0b3dbcdf-0e07-4cde-9f55-8438d7c4d658",
   "metadata": {},
   "source": [
    "we will train our model with Train set and test it with Test set"
   ]
  },
  {
   "cell_type": "code",
   "execution_count": 13,
   "id": "99bc8a9d-eaa7-409a-add5-60f1d5f9fbff",
   "metadata": {},
   "outputs": [
    {
     "name": "stdout",
     "output_type": "stream",
     "text": [
      "Train Size: 160 Test Size: 40\n"
     ]
    }
   ],
   "source": [
    "train_X, test_X, train_y, test_y = train_test_split(X, y, train_size=0.8, random_state=8)\n",
    "\n",
    "print(\"Train Size:\", train_X.shape[0], \"Test Size:\", test_X.shape[0])"
   ]
  },
  {
   "cell_type": "markdown",
   "id": "416bd506-767d-45e8-80c2-e265c6943b85",
   "metadata": {},
   "source": [
    "<h2>Training Model</h2>"
   ]
  },
  {
   "cell_type": "markdown",
   "id": "0bacf784-07ee-4e43-9cb7-0e2a1facc5e3",
   "metadata": {},
   "source": [
    "we use three algorithms to train our model:\n",
    "- KNN (K-Nearest Neighbors)\n",
    "- Decision Tree\n",
    "- Random Forest"
   ]
  },
  {
   "cell_type": "markdown",
   "id": "e5c1f950-c4d0-47ea-8ac7-dcc41c566abd",
   "metadata": {},
   "source": [
    "<h3>KNN</h3>"
   ]
  },
  {
   "cell_type": "code",
   "execution_count": 14,
   "id": "94779083-5c63-4747-a798-f13fa045297b",
   "metadata": {},
   "outputs": [
    {
     "name": "stdout",
     "output_type": "stream",
     "text": [
      "Best K:  28 Accuray:  0.6\n"
     ]
    }
   ],
   "source": [
    "Ks = 161\n",
    "acc = np.zeros((Ks-1))\n",
    "\n",
    "for x in range(1, Ks):\n",
    "    neigh = KNeighborsClassifier(n_neighbors=x).fit(train_X, train_y)  # Training Model\n",
    "    predict_y = neigh.predict(test_X)  # Prediction\n",
    "    acc[x-1] = accuracy_score(test_y, predict_y)  # Accuracy\n",
    "    \n",
    "K_ = acc.max()\n",
    "print(\"Best K: \", acc.argmax()+1, \"Accuray: \", K_)  # Best K"
   ]
  },
  {
   "cell_type": "markdown",
   "id": "5925f115-2633-4d1e-9f15-9b0da6a23df1",
   "metadata": {},
   "source": [
    "<h3>Decision Tree</h3>"
   ]
  },
  {
   "cell_type": "code",
   "execution_count": 15,
   "id": "05f1c987-5041-4778-90f2-fa9ff0e461d2",
   "metadata": {},
   "outputs": [
    {
     "name": "stdout",
     "output_type": "stream",
     "text": [
      "Accuracy: 0.45\n"
     ]
    }
   ],
   "source": [
    "drugTree = DecisionTreeClassifier(criterion=\"entropy\", max_depth=5).fit(train_X, train_y)  # Training Model\n",
    "predict_y = drugTree.predict(test_X)  # Prediction\n",
    "DT_ = accuracy_score(test_y, predict_y)  # Accuracy\n",
    "\n",
    "print(\"Accuracy:\", DT_)"
   ]
  },
  {
   "cell_type": "markdown",
   "id": "248d8939-5164-46e7-9a68-ca1c3e1d00d0",
   "metadata": {},
   "source": [
    "<h3>Random Forest</h3>"
   ]
  },
  {
   "cell_type": "code",
   "execution_count": 16,
   "id": "e7219243-c318-420f-833f-1fddcfccc8c9",
   "metadata": {},
   "outputs": [
    {
     "name": "stdout",
     "output_type": "stream",
     "text": [
      "Accuracy: 0.45\n"
     ]
    }
   ],
   "source": [
    "drugForest = RandomForestClassifier(criterion=\"entropy\", random_state=12).fit(train_X, train_y)  # Training Model\n",
    "predict_y = drugForest.predict(test_X)  # Prediction\n",
    "RF_ = accuracy_score(test_y, predict_y)  # Accuracy\n",
    "\n",
    "print(\"Accuracy:\", RF_)"
   ]
  },
  {
   "cell_type": "markdown",
   "id": "bd9bab1f-eca8-445d-a54b-dbe5415735cc",
   "metadata": {},
   "source": [
    "<h2>Conclusion</h2>"
   ]
  },
  {
   "cell_type": "markdown",
   "id": "dc1b388f-5d38-4952-bf6c-4c618e51df7a",
   "metadata": {},
   "source": [
    "<p>Base one three algorithms (KNN, Decision Tree, Random Forest), The best method for this dataset is <strong>KNN</strong> with accuracy of 0.6</p>"
   ]
  }
 ],
 "metadata": {
  "kernelspec": {
   "display_name": "Python 3 (ipykernel)",
   "language": "python",
   "name": "python3"
  },
  "language_info": {
   "codemirror_mode": {
    "name": "ipython",
    "version": 3
   },
   "file_extension": ".py",
   "mimetype": "text/x-python",
   "name": "python",
   "nbconvert_exporter": "python",
   "pygments_lexer": "ipython3",
   "version": "3.12.0"
  }
 },
 "nbformat": 4,
 "nbformat_minor": 5
}
